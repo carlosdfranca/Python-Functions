{
 "cells": [
  {
   "cell_type": "markdown",
   "metadata": {},
   "source": [
    "# Retornar um valor na Function Python\n",
    "\n",
    "### Estrutura Básica"
   ]
  },
  {
   "cell_type": "raw",
   "metadata": {},
   "source": [
    "def nome_funcao():\n",
    "    return valor_final"
   ]
  },
  {
   "cell_type": "markdown",
   "metadata": {},
   "source": [
    "- Exemplo: vamos criar uma função de cadastro de um Produto. Essa função deve garantir que o produto cadastrado está em letra minúscula."
   ]
  },
  {
   "cell_type": "code",
   "execution_count": 9,
   "metadata": {},
   "outputs": [],
   "source": [
    "def cadastrar_produto():\n",
    "    produto = input('Digite o nome do produto que deseja cadastrar: ')\n",
    "    produto = produto.lower()\n",
    "    produto = produto.strip()\n",
    "    return produto\n",
    "\n",
    "def continuar():\n",
    "    r = input('Deseja continuar? [sim/nao]: ')\n",
    "    r.lower()\n",
    "    r.strip()\n",
    "    return r"
   ]
  },
  {
   "cell_type": "code",
   "execution_count": 12,
   "metadata": {},
   "outputs": [
    {
     "name": "stdout",
     "output_type": "stream",
     "text": [
      "Digite o nome do produto que deseja cadastrar: pão\n",
      "Deseja continuar? [sim/nao]: sim\n",
      "Digite o nome do produto que deseja cadastrar: macarrão\n",
      "Deseja continuar? [sim/nao]: sim\n",
      "Digite o nome do produto que deseja cadastrar: feijão\n",
      "Deseja continuar? [sim/nao]: sim\n",
      "Digite o nome do produto que deseja cadastrar: arroz\n",
      "Deseja continuar? [sim/nao]: nao\n",
      "Produtos cadastrados:\n",
      "pão\n",
      "macarrão\n",
      "feijão\n",
      "arroz\n"
     ]
    }
   ],
   "source": [
    "produtos = []\n",
    "\n",
    "while True:\n",
    "    produtos.append(cadastrar_produto())\n",
    "    r = continuar()\n",
    "    if r == 'nao':\n",
    "        break\n",
    "\n",
    "print(f'Produtos cadastrados:')\n",
    "for item in produtos:\n",
    "    print(item)"
   ]
  }
 ],
 "metadata": {
  "kernelspec": {
   "display_name": "Python 3 (ipykernel)",
   "language": "python",
   "name": "python3"
  },
  "language_info": {
   "codemirror_mode": {
    "name": "ipython",
    "version": 3
   },
   "file_extension": ".py",
   "mimetype": "text/x-python",
   "name": "python",
   "nbconvert_exporter": "python",
   "pygments_lexer": "ipython3",
   "version": "3.9.7"
  }
 },
 "nbformat": 4,
 "nbformat_minor": 4
}
